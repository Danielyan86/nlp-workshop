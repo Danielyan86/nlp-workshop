{
 "cells": [
  {
   "cell_type": "markdown",
   "metadata": {},
   "source": [
    "```mermaid\n",
    "graph LR\n",
    "    LD[Local Documents] --> UL[Unstructured Loader]\n",
    "    UL --> TS[Text Splitter]\n",
    "    TS --> TC[Text Chunks]\n",
    "    TC --> EM1[Embedding Model]\n",
    "    EM1 --> IX[Indexing]\n",
    "    IX --> VS[Vector Store]\n",
    "    \n",
    "    Q[Query] --> EM2[Embedding Model]\n",
    "    EM2 --> QV[Query Vector]\n",
    "    QV --> VS2[Vector Similarity]\n",
    "    VS --> VS2\n",
    "    VS2 --> RT[Related Text Chunks]\n",
    "    RT --> P[Prompt]\n",
    "    P --> LLM[LLM]\n",
    "    LLM --> A[Answer]\n",
    "```"
   ]
  },
  {
   "cell_type": "markdown",
   "metadata": {},
   "source": []
  }
 ],
 "metadata": {
  "language_info": {
   "name": "python"
  }
 },
 "nbformat": 4,
 "nbformat_minor": 2
}
