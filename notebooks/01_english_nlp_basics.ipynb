{
 "cells": [
  {
   "cell_type": "code",
   "id": "initial_id",
   "metadata": {
    "collapsed": true,
    "ExecuteTime": {
     "end_time": "2025-01-26T00:51:28.838980Z",
     "start_time": "2025-01-26T00:51:26.971911Z"
    }
   },
   "source": [
    "import spacy\n",
    "\n",
    "# Load English model\n",
    "nlp = spacy.load('en_core_web_sm')\n",
    "\n",
    "# Sample text\n",
    "text = \"\"\"\n",
    "Apple Inc. is planning to open a new store in New York City. \n",
    "The company's CEO Tim Cook announced this during the annual meeting.\n",
    "\"\"\"\n",
    "\n",
    "# Process text\n",
    "doc = nlp(text)\n",
    "\n",
    "# 1. Basic tokenization\n",
    "print(\"=== Tokenization Results ===\")\n",
    "for token in doc:\n",
    "    print(f\"Token: {token.text}, Lemma: {token.lemma_}\")\n"
   ],
   "outputs": [
    {
     "name": "stdout",
     "output_type": "stream",
     "text": [
      "=== Tokenization Results ===\n",
      "Token: \n",
      ", Lemma: \n",
      "\n",
      "Token: Apple, Lemma: Apple\n",
      "Token: Inc., Lemma: Inc.\n",
      "Token: is, Lemma: be\n",
      "Token: planning, Lemma: plan\n",
      "Token: to, Lemma: to\n",
      "Token: open, Lemma: open\n",
      "Token: a, Lemma: a\n",
      "Token: new, Lemma: new\n",
      "Token: store, Lemma: store\n",
      "Token: in, Lemma: in\n",
      "Token: New, Lemma: New\n",
      "Token: York, Lemma: York\n",
      "Token: City, Lemma: City\n",
      "Token: ., Lemma: .\n",
      "Token: \n",
      ", Lemma: \n",
      "\n",
      "Token: The, Lemma: the\n",
      "Token: company, Lemma: company\n",
      "Token: 's, Lemma: 's\n",
      "Token: CEO, Lemma: CEO\n",
      "Token: Tim, Lemma: Tim\n",
      "Token: Cook, Lemma: Cook\n",
      "Token: announced, Lemma: announce\n",
      "Token: this, Lemma: this\n",
      "Token: during, Lemma: during\n",
      "Token: the, Lemma: the\n",
      "Token: annual, Lemma: annual\n",
      "Token: meeting, Lemma: meeting\n",
      "Token: ., Lemma: .\n",
      "Token: \n",
      ", Lemma: \n",
      "\n"
     ]
    }
   ],
   "execution_count": 1
  },
  {
   "metadata": {},
   "cell_type": "code",
   "outputs": [],
   "execution_count": null,
   "source": "",
   "id": "1c662bfed4fbaf62"
  }
 ],
 "metadata": {
  "kernelspec": {
   "display_name": "nlp",
   "language": "python",
   "name": "python3"
  },
  "language_info": {
   "codemirror_mode": {
    "name": "ipython",
    "version": 3
   },
   "file_extension": ".py",
   "mimetype": "text/x-python",
   "name": "python",
   "nbconvert_exporter": "python",
   "pygments_lexer": "ipython3",
   "version": "3.12.8"
  }
 },
 "nbformat": 4,
 "nbformat_minor": 5
}
